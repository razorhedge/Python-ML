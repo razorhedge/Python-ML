{
 "cells": [
  {
   "cell_type": "markdown",
   "metadata": {},
   "source": [
    "# El método de k-means"
   ]
  },
  {
   "cell_type": "code",
   "execution_count": 1,
   "metadata": {},
   "outputs": [],
   "source": [
    "import numpy as np"
   ]
  },
  {
   "cell_type": "code",
   "execution_count": 2,
   "metadata": {},
   "outputs": [
    {
     "data": {
      "text/plain": [
       "array([[0.24327622, 0.60318554, 0.72408892],\n",
       "       [0.10584919, 0.56236851, 0.05975853],\n",
       "       [0.30887799, 0.29100802, 0.67885865],\n",
       "       [0.18020585, 0.65903446, 0.462176  ],\n",
       "       [0.85023048, 0.74522111, 0.5739342 ],\n",
       "       [0.57896199, 0.86265495, 0.20816652],\n",
       "       [0.02019233, 0.27361025, 0.3371139 ],\n",
       "       [0.54054302, 0.69888469, 0.71992822],\n",
       "       [0.36972618, 0.61941294, 0.42553518],\n",
       "       [0.07721486, 0.93915327, 0.48527109],\n",
       "       [0.13592702, 0.91944956, 0.28000776],\n",
       "       [0.01037749, 0.05480406, 0.50893094],\n",
       "       [0.51850712, 0.91240845, 0.42468522],\n",
       "       [0.27740363, 0.1100795 , 0.96982913],\n",
       "       [0.81763758, 0.49553161, 0.97659639],\n",
       "       [0.46373359, 0.23367186, 0.64050321],\n",
       "       [0.83707915, 0.94965509, 0.62440261],\n",
       "       [0.2289729 , 0.60970231, 0.66829221],\n",
       "       [0.55967859, 0.02828568, 0.29046767],\n",
       "       [0.72264686, 0.45068418, 0.14720924],\n",
       "       [0.77373106, 0.75260356, 0.63793063],\n",
       "       [0.25593398, 0.65074944, 0.61219348],\n",
       "       [0.67460808, 0.92390334, 0.39246455],\n",
       "       [0.99425515, 0.0578658 , 0.39302936],\n",
       "       [0.12052208, 0.55358792, 0.64855949],\n",
       "       [0.94208241, 0.21071778, 0.0786513 ],\n",
       "       [0.25667821, 0.24529227, 0.58563222],\n",
       "       [0.78307821, 0.46458176, 0.03342848],\n",
       "       [0.0631332 , 0.95642914, 0.81468177],\n",
       "       [0.93696675, 0.10054874, 0.69450692]])"
      ]
     },
     "execution_count": 2,
     "metadata": {},
     "output_type": "execute_result"
    }
   ],
   "source": [
    "data = np.random.random(90).reshape(30,3)\n",
    "data"
   ]
  },
  {
   "cell_type": "code",
   "execution_count": 3,
   "metadata": {},
   "outputs": [
    {
     "data": {
      "text/plain": [
       "array([[0.02019233, 0.27361025, 0.3371139 ],\n",
       "       [0.30887799, 0.29100802, 0.67885865]])"
      ]
     },
     "execution_count": 3,
     "metadata": {},
     "output_type": "execute_result"
    }
   ],
   "source": [
    "c1 = np.random.choice(range(len(data)))\n",
    "c2 = np.random.choice(range(len(data)))\n",
    "clust_centers = np.vstack([data[c1], data[c2]])\n",
    "clust_centers"
   ]
  },
  {
   "cell_type": "code",
   "execution_count": 4,
   "metadata": {},
   "outputs": [],
   "source": [
    "from scipy.cluster.vq import vq"
   ]
  },
  {
   "cell_type": "code",
   "execution_count": 5,
   "metadata": {},
   "outputs": [
    {
     "data": {
      "text/plain": [
       "(array([1, 0, 1, 0, 1, 1, 0, 1, 1, 0, 0, 0, 1, 1, 1, 1, 1, 1, 1, 1, 1, 1,\n",
       "        1, 1, 1, 1, 1, 1, 1, 1], dtype=int32),\n",
       " array([0.32218654, 0.40944404, 0.        , 0.43565661, 0.71440968,\n",
       "        0.78821104, 0.        , 0.47087023, 0.41919574, 0.68421461,\n",
       "        0.65860765, 0.27837669, 0.70333989, 0.34407788, 0.6239503 ,\n",
       "        0.16952531, 0.84603657, 0.32872864, 0.53176266, 0.69235268,\n",
       "        0.6563794 , 0.36967716, 0.78507106, 0.77832868, 0.3245677 ,\n",
       "        0.87615251, 0.11621495, 0.81949606, 0.7222352 , 0.6565174 ]))"
      ]
     },
     "execution_count": 5,
     "metadata": {},
     "output_type": "execute_result"
    }
   ],
   "source": [
    "vq(data, clust_centers)"
   ]
  },
  {
   "cell_type": "code",
   "execution_count": 6,
   "metadata": {},
   "outputs": [],
   "source": [
    "from scipy.cluster.vq import kmeans"
   ]
  },
  {
   "cell_type": "code",
   "execution_count": 7,
   "metadata": {},
   "outputs": [
    {
     "data": {
      "text/plain": [
       "(array([[0.19487654, 0.51759619, 0.55633953],\n",
       "        [0.75214332, 0.54668191, 0.44252866]]), 0.3838735276464874)"
      ]
     },
     "execution_count": 7,
     "metadata": {},
     "output_type": "execute_result"
    }
   ],
   "source": [
    "kmeans(data, clust_centers)"
   ]
  },
  {
   "cell_type": "code",
   "execution_count": 8,
   "metadata": {},
   "outputs": [
    {
     "data": {
      "text/plain": [
       "(array([[0.76842027, 0.534974  , 0.42119024],\n",
       "        [0.21520987, 0.52826022, 0.56596239]]), 0.3836206433353544)"
      ]
     },
     "execution_count": 8,
     "metadata": {},
     "output_type": "execute_result"
    }
   ],
   "source": [
    "kmeans(data, 2)"
   ]
  },
  {
   "cell_type": "code",
   "execution_count": null,
   "metadata": {},
   "outputs": [],
   "source": []
  }
 ],
 "metadata": {
  "kernelspec": {
   "display_name": "Python 3",
   "language": "python",
   "name": "python3"
  },
  "language_info": {
   "codemirror_mode": {
    "name": "ipython",
    "version": 3
   },
   "file_extension": ".py",
   "mimetype": "text/x-python",
   "name": "python",
   "nbconvert_exporter": "python",
   "pygments_lexer": "ipython3",
   "version": "3.6.4"
  }
 },
 "nbformat": 4,
 "nbformat_minor": 2
}
